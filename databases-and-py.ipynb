{
    "metadata": {
        "kernelspec": {
            "name": "python3",
            "display_name": "Python 3 (ipykernel)",
            "language": "python"
        },
        "language_info": {
            "name": "python",
            "version": "3.9.12",
            "mimetype": "text/x-python",
            "codemirror_mode": {
                "name": "ipython",
                "version": 3
            },
            "pygments_lexer": "ipython3",
            "nbconvert_exporter": "python",
            "file_extension": ".py"
        }
    },
    "nbformat_minor": 2,
    "nbformat": 4,
    "cells": [
        {
            "cell_type": "markdown",
            "source": [
                "# Exercises: Working with Databases in Python\n",
                "\n",
                "For the exercises, we will be practicing the steps outlined in this [article](https://towardsdatascience.com/do-you-know-python-has-a-built-in-database-d553989c87bd). You can skip the portion where the author downloads a separate SQL client to examine the database. "
            ],
            "metadata": {
                "azdata_cell_guid": "d7b89799-a102-479f-87b7-f2759ff1962e"
            },
            "attachments": {}
        },
        {
            "cell_type": "markdown",
            "source": [
                "## Import Libraries\n",
                "\n",
                "We will need `pandas` and `sqlite3`. SQLite is a small, self-contained database engine that comes with Python so you will not have to do any additional installations for this lesson. If you want to connect to a different database engine, such as SQL server, you may need additional libraries such as `sqlalchemy` or `pyodbc` and a tool called a driver which helps to connect a database to an application.\n",
                ""
            ],
            "metadata": {
                "azdata_cell_guid": "89a0b6d9-821d-44f5-9795-9519809b9108"
            },
            "attachments": {}
        },
        {
            "cell_type": "code",
            "source": [
                "# Import sqlite3 and pandas.\n",
                "import sqlite3 as sl \n",
                "import pandas as pd"
            ],
            "metadata": {
                "azdata_cell_guid": "865655b0-22e9-47f4-a5df-4bfe97dda4a3",
                "tags": [],
                "language": "python"
            },
            "outputs": [],
            "execution_count": 16
        },
        {
            "cell_type": "markdown",
            "source": [
                "## Create a Database\n",
                "\n",
                "In the article, the author shows how to use `sqlite3` to open a connection to an existing database or create a new one. Use this method to make a new database called `exercises.db`."
            ],
            "metadata": {
                "azdata_cell_guid": "be8436e2-68be-47f8-9fc9-06c235a6a128"
            }
        },
        {
            "cell_type": "code",
            "source": [
                "# Create a new database called exercises.db.\n",
                "con = sl.connect('excercises.db')"
            ],
            "metadata": {
                "azdata_cell_guid": "707abc33-c6ee-416e-9358-c799f1fcbb12",
                "language": "python"
            },
            "outputs": [],
            "execution_count": 17
        },
        {
            "cell_type": "markdown",
            "source": [
                "## Create a Table\n",
                "\n",
                "Follow the steps in the article to create a table called `favorite_books.db`. This table should include columns for the title, author, and a short description of why it is a favorite."
            ],
            "metadata": {
                "azdata_cell_guid": "dc9df060-ddc9-4573-bd74-3c97323f85a7"
            },
            "attachments": {}
        },
        {
            "cell_type": "code",
            "source": [
                "# Create a new table in your database.\n",
                "with con:\n",
                "    con.execute(\"\"\"\n",
                "        CREATE TABLE favorite_books1 (\n",
                "            title TEXT,\n",
                "            author TEXT,\n",
                "            description TEXT\n",
                "        )\n",
                "    \"\"\")"
            ],
            "metadata": {
                "azdata_cell_guid": "3cc6b80e-3fa2-4d2e-b2a9-1ea5d68ba01e",
                "language": "python",
                "tags": []
            },
            "outputs": [],
            "execution_count": 20
        },
        {
            "cell_type": "markdown",
            "source": [
                "## Insert Records\n",
                "\n",
                "Add 3 entries to your table for your top 3 favorite books."
            ],
            "metadata": {
                "azdata_cell_guid": "e9acec60-1485-45c8-9f12-997f959d44cc"
            }
        },
        {
            "cell_type": "code",
            "source": [
                "# Add your 3 favorite books to your table.\n",
                "sql = 'INSERT INTO favorite_books1 (title, author, description) values(?, ?, ?)'\n",
                "data = [\n",
                "    ('The House of Sand and Fog', 'Andre Dubus III', 'A recent immigrant from the Middle East― a former colonel in the Iranian Air Force― yearns to restore his familys dignity in California.'),\n",
                "    ('The Kite Runner', 'Khaled Hosseini', 'Guilt, friendship, forgiveness, loss, and desire for atonement, and desire to be better than who you think you are.'),\n",
                "    ('The Alchemist', 'Paulo Cuelho', 'Everyone should strive to pursue and realize their personal legend. Pay attention to the omens around you and dispel the restrictions society places on us to simply be content rather than pursue our wildest dreams')\n",
                "]\n",
                "\n",
                "with con:\n",
                "    con.executemany(sql, data)"
            ],
            "metadata": {
                "azdata_cell_guid": "c7b8e386-f3f4-42ad-aa91-a2da2e7904a5",
                "language": "python",
                "tags": []
            },
            "outputs": [],
            "execution_count": 21
        },
        {
            "cell_type": "markdown",
            "source": [
                "## Query Your Table\n",
                "\n",
                "Write a `SELECT` query to output the 3 records in your table."
            ],
            "metadata": {
                "azdata_cell_guid": "b2e48ba7-b418-4418-bb16-598fb82b964c"
            },
            "attachments": {}
        },
        {
            "cell_type": "code",
            "source": [
                "# Write your SELECT query here.\n",
                "with con:\n",
                "    data = con.execute(\"SELECT * FROM favorite_books1\")\n",
                "    for row in data:\n",
                "        print(row)"
            ],
            "metadata": {
                "azdata_cell_guid": "c341e7e2-d635-4c26-b744-237c762f7f41",
                "tags": [],
                "language": "python"
            },
            "outputs": [
                {
                    "name": "stdout",
                    "text": "('The House of Sand and Fog', 'Andre Dubus III', 'A recent immigrant from the Middle East― a former colonel in the Iranian Air Force― yearns to restore his familys dignity in California.')\n('The Kite Runner', 'Khaled Hosseini', 'Guilt, friendship, forgiveness, loss, and desire for atonement, and desire to be better than who you think you are.')\n('The Alchemist', 'Paulo Cuelho', 'Everyone should strive to pursue and realize their personal legend. Pay attention to the omens around you and dispel the restrictions society places on us to simply be content rather than pursue our wildest dreams')\n",
                    "output_type": "stream"
                }
            ],
            "execution_count": 22
        },
        {
            "cell_type": "code",
            "source": [
                "df = pd.read_sql_query(\"SELECT * FROM favorite_books1\", con)\n",
                "df"
            ],
            "metadata": {
                "azdata_cell_guid": "587215be-b40d-45f4-8fde-6f6651fbacdb",
                "language": "python"
            },
            "outputs": [
                {
                    "data": {
                        "text/plain": "                       title           author  \\\n0  The House of Sand and Fog  Andre Dubus III   \n1            The Kite Runner  Khaled Hosseini   \n2              The Alchemist     Paulo Cuelho   \n\n                                         description  \n0  A recent immigrant from the Middle East― a for...  \n1  Guilt, friendship, forgiveness, loss, and desi...  \n2  Everyone should strive to pursue and realize t...  ",
                        "text/html": "<div>\n<style scoped>\n    .dataframe tbody tr th:only-of-type {\n        vertical-align: middle;\n    }\n\n    .dataframe tbody tr th {\n        vertical-align: top;\n    }\n\n    .dataframe thead th {\n        text-align: right;\n    }\n</style>\n<table border=\"1\" class=\"dataframe\">\n  <thead>\n    <tr style=\"text-align: right;\">\n      <th></th>\n      <th>title</th>\n      <th>author</th>\n      <th>description</th>\n    </tr>\n  </thead>\n  <tbody>\n    <tr>\n      <th>0</th>\n      <td>The House of Sand and Fog</td>\n      <td>Andre Dubus III</td>\n      <td>A recent immigrant from the Middle East― a for...</td>\n    </tr>\n    <tr>\n      <th>1</th>\n      <td>The Kite Runner</td>\n      <td>Khaled Hosseini</td>\n      <td>Guilt, friendship, forgiveness, loss, and desi...</td>\n    </tr>\n    <tr>\n      <th>2</th>\n      <td>The Alchemist</td>\n      <td>Paulo Cuelho</td>\n      <td>Everyone should strive to pursue and realize t...</td>\n    </tr>\n  </tbody>\n</table>\n</div>"
                    },
                    "metadata": {},
                    "execution_count": 23,
                    "output_type": "execute_result"
                }
            ],
            "execution_count": 23
        },
        {
            "cell_type": "markdown",
            "source": [
                "## Create a New Table with Pandas\n",
                "\n",
                "Create a new table called `favorite_movies` with your top 3 favorite movies. Each movie should have an id and a title. This time, use Pandas to first make a dataframe and then write the dataframe to SQL. Write a `SELECT` query to confirm that the new table does have your top 3 favorite movies."
            ],
            "metadata": {
                "azdata_cell_guid": "2127737d-71cd-4f0d-a84e-b1db8ad54af7"
            }
        },
        {
            "cell_type": "code",
            "source": [
                "# Use Pandas to make a new table in your database.\n",
                "favorite_movies = pd.DataFrame({\n",
                "    'movie_id' : [1, 2, 3],\n",
                "    'movie_title' : ['Willy Wonka and the Chocolate Factory', 'Goonies', 'The Secret Garden']\n",
                "})"
            ],
            "metadata": {
                "azdata_cell_guid": "b4b6dd20-ccc0-42e7-b1e7-79d8596b3f9c",
                "language": "python",
                "tags": []
            },
            "outputs": [],
            "execution_count": 24
        },
        {
            "cell_type": "code",
            "source": [
                "favorite_movies.to_sql('movies1', con)"
            ],
            "metadata": {
                "language": "python",
                "azdata_cell_guid": "01538008-2512-4198-bcc7-452d39b9dbbe"
            },
            "outputs": [
                {
                    "data": {
                        "text/plain": "3"
                    },
                    "metadata": {},
                    "execution_count": 26,
                    "output_type": "execute_result"
                }
            ],
            "execution_count": 26
        },
        {
            "cell_type": "code",
            "source": [
                "with con:\n",
                "    data = con.execute('SELECT * FROM movies1')\n",
                "    for row in data:\n",
                "        print(row)"
            ],
            "metadata": {
                "language": "python",
                "azdata_cell_guid": "7444af67-3005-4df9-a55c-e40e438d0959"
            },
            "outputs": [
                {
                    "name": "stdout",
                    "text": "(0, 1, 'Willy Wonka and the Chocolate Factory')\n(1, 2, 'Goonies')\n(2, 3, 'The Secret Garden')\n",
                    "output_type": "stream"
                }
            ],
            "execution_count": 27
        },
        {
            "cell_type": "code",
            "source": [
                ""
            ],
            "metadata": {
                "language": "python",
                "azdata_cell_guid": "bb95c37c-d74f-4d34-aab8-cbd019ec0101"
            },
            "outputs": [],
            "execution_count": null
        }
    ]
}